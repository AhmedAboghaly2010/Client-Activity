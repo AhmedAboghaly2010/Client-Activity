{
 "cells": [
  {
   "cell_type": "code",
   "execution_count": 1,
   "id": "58dac057",
   "metadata": {},
   "outputs": [],
   "source": [
    "import pandas as pd\n",
    "import numpy as np\n",
    "import seaborn as sns\n",
    "import matplotlib.pyplot as plt\n",
    "\n",
    "from sklearn.preprocessing import LabelEncoder\n",
    "from sklearn.preprocessing import MinMaxScaler\n",
    "from sklearn.model_selection import train_test_split\n",
    "\n",
    "from sklearn.linear_model import LogisticRegression\n",
    "from sklearn.tree import DecisionTreeClassifier  \n",
    "from sklearn.neighbors import KNeighborsClassifier\n",
    "from sklearn.ensemble import RandomForestClassifier\n",
    "from sklearn.ensemble import GradientBoostingClassifier\n",
    "from sklearn.svm import SVC\n",
    "from sklearn.naive_bayes import GaussianNB\n",
    "\n",
    "from sklearn.metrics import accuracy_score"
   ]
  },
  {
   "cell_type": "markdown",
   "id": "e1db6101",
   "metadata": {},
   "source": [
    "# Data After Sanderd Cleaning"
   ]
  },
  {
   "cell_type": "code",
   "execution_count": 2,
   "id": "146334e2",
   "metadata": {},
   "outputs": [],
   "source": [
    "data=pd.read_excel(r\"E:\\BDU Data _ 221109_Ahamed Aboghaly.xlsx\")"
   ]
  },
  {
   "cell_type": "markdown",
   "id": "4b638122",
   "metadata": {},
   "source": [
    "## Exploring Data"
   ]
  },
  {
   "cell_type": "code",
   "execution_count": 3,
   "id": "7a82312e",
   "metadata": {},
   "outputs": [
    {
     "data": {
      "text/html": [
       "<div>\n",
       "<style scoped>\n",
       "    .dataframe tbody tr th:only-of-type {\n",
       "        vertical-align: middle;\n",
       "    }\n",
       "\n",
       "    .dataframe tbody tr th {\n",
       "        vertical-align: top;\n",
       "    }\n",
       "\n",
       "    .dataframe thead th {\n",
       "        text-align: right;\n",
       "    }\n",
       "</style>\n",
       "<table border=\"1\" class=\"dataframe\">\n",
       "  <thead>\n",
       "    <tr style=\"text-align: right;\">\n",
       "      <th></th>\n",
       "      <th>Opportunity ID</th>\n",
       "      <th>EGEC Number</th>\n",
       "      <th>Opportunity type</th>\n",
       "      <th>Opportunity Name</th>\n",
       "      <th>Business Line</th>\n",
       "      <th>Client Name</th>\n",
       "      <th>Project Owner</th>\n",
       "      <th>Account Manager</th>\n",
       "      <th>Client Segment</th>\n",
       "      <th>EGEC Company</th>\n",
       "      <th>...</th>\n",
       "      <th>QAR</th>\n",
       "      <th>EUR</th>\n",
       "      <th>USD</th>\n",
       "      <th>Fees in USD</th>\n",
       "      <th>Opportunity Manager</th>\n",
       "      <th>Director</th>\n",
       "      <th>Opportunity Status</th>\n",
       "      <th>Submission Date</th>\n",
       "      <th>Project Type</th>\n",
       "      <th>Date Awarded/Lost</th>\n",
       "    </tr>\n",
       "  </thead>\n",
       "  <tbody>\n",
       "    <tr>\n",
       "      <th>0</th>\n",
       "      <td>822-2021</td>\n",
       "      <td>99-EG-21-822-PR</td>\n",
       "      <td>Proposal</td>\n",
       "      <td>DS.إعداد الدراسات التصميمية ومستندات الطرح لمش...</td>\n",
       "      <td>Water &amp; Enviornment</td>\n",
       "      <td>الجهاز التنفيذى لمياه الشرب والصرف الصحى</td>\n",
       "      <td>الجهاز التنفيذى لمياه الشرب والصرف الصحى</td>\n",
       "      <td>Ehab Rashed</td>\n",
       "      <td>Government</td>\n",
       "      <td>Egypt</td>\n",
       "      <td>...</td>\n",
       "      <td>NaN</td>\n",
       "      <td>NaN</td>\n",
       "      <td>NaN</td>\n",
       "      <td>19240.636224</td>\n",
       "      <td>Sally Latif</td>\n",
       "      <td>Ehab Rashed</td>\n",
       "      <td>Awarded</td>\n",
       "      <td>2021-10-11</td>\n",
       "      <td>Water &amp; wastewater</td>\n",
       "      <td>2022-01-01</td>\n",
       "    </tr>\n",
       "    <tr>\n",
       "      <th>1</th>\n",
       "      <td>12</td>\n",
       "      <td>99-EG-22-012-PR</td>\n",
       "      <td>Proposal</td>\n",
       "      <td>DS. كوبرى مزلقان بنى مزار</td>\n",
       "      <td>Building &amp; facilities</td>\n",
       "      <td>شركة النيل العامة لإنشاء الطرق</td>\n",
       "      <td>شركة النيل العامة لإنشاء الطرق</td>\n",
       "      <td>Hisham hafez</td>\n",
       "      <td>Government</td>\n",
       "      <td>Egypt</td>\n",
       "      <td>...</td>\n",
       "      <td>NaN</td>\n",
       "      <td>NaN</td>\n",
       "      <td>NaN</td>\n",
       "      <td>5364.032837</td>\n",
       "      <td>Hisham hafez</td>\n",
       "      <td>Hisham hafez</td>\n",
       "      <td>Awarded</td>\n",
       "      <td>2022-01-02</td>\n",
       "      <td>Geotechnical</td>\n",
       "      <td>2022-01-02</td>\n",
       "    </tr>\n",
       "    <tr>\n",
       "      <th>2</th>\n",
       "      <td>10</td>\n",
       "      <td>99-EG-22-010-PR</td>\n",
       "      <td>Proposal</td>\n",
       "      <td>DS. Detail Design of Infrastructure &amp; Hardscap...</td>\n",
       "      <td>Building &amp; facilities</td>\n",
       "      <td>Emaar</td>\n",
       "      <td>Emaar</td>\n",
       "      <td>Hesham Elshazly</td>\n",
       "      <td>Other Business</td>\n",
       "      <td>Egypt</td>\n",
       "      <td>...</td>\n",
       "      <td>NaN</td>\n",
       "      <td>NaN</td>\n",
       "      <td>NaN</td>\n",
       "      <td>5130.836326</td>\n",
       "      <td>Mohamed Anwar</td>\n",
       "      <td>Nasser Zaki</td>\n",
       "      <td>Awarded</td>\n",
       "      <td>2022-01-10</td>\n",
       "      <td>Sustations &amp; transmission</td>\n",
       "      <td>2022-01-10</td>\n",
       "    </tr>\n",
       "    <tr>\n",
       "      <th>3</th>\n",
       "      <td>933-2021</td>\n",
       "      <td>99-EG-21-933-PR</td>\n",
       "      <td>Proposal</td>\n",
       "      <td>DS. Structural assessment for the production h...</td>\n",
       "      <td>Building &amp; facilities</td>\n",
       "      <td>Unilever</td>\n",
       "      <td>Unilever</td>\n",
       "      <td>Eslam Mostafa</td>\n",
       "      <td>Other Business</td>\n",
       "      <td>Egypt</td>\n",
       "      <td>...</td>\n",
       "      <td>NaN</td>\n",
       "      <td>NaN</td>\n",
       "      <td>NaN</td>\n",
       "      <td>7798.871216</td>\n",
       "      <td>Mohamed Reda</td>\n",
       "      <td>Nasser Zaki</td>\n",
       "      <td>Awarded</td>\n",
       "      <td>2021-12-01</td>\n",
       "      <td>NaN</td>\n",
       "      <td>2022-01-12</td>\n",
       "    </tr>\n",
       "    <tr>\n",
       "      <th>4</th>\n",
       "      <td>1</td>\n",
       "      <td>99-EG-22-001-PR</td>\n",
       "      <td>Proposal</td>\n",
       "      <td>DS. المناقصة المحدوده الخاصة بطلب خدمات استشار...</td>\n",
       "      <td>Building &amp; facilities</td>\n",
       "      <td>VACSERA</td>\n",
       "      <td>VACSERA</td>\n",
       "      <td>Islam shawky</td>\n",
       "      <td>Government</td>\n",
       "      <td>Egypt</td>\n",
       "      <td>...</td>\n",
       "      <td>NaN</td>\n",
       "      <td>NaN</td>\n",
       "      <td>NaN</td>\n",
       "      <td>NaN</td>\n",
       "      <td>Mariem Wagih</td>\n",
       "      <td>Nasser Zaki</td>\n",
       "      <td>Awarded</td>\n",
       "      <td>2022-01-03</td>\n",
       "      <td>NaN</td>\n",
       "      <td>2022-01-26</td>\n",
       "    </tr>\n",
       "  </tbody>\n",
       "</table>\n",
       "<p>5 rows × 27 columns</p>\n",
       "</div>"
      ],
      "text/plain": [
       "  Opportunity ID      EGEC Number Opportunity type  \\\n",
       "0       822-2021  99-EG-21-822-PR         Proposal   \n",
       "1             12  99-EG-22-012-PR         Proposal   \n",
       "2             10  99-EG-22-010-PR         Proposal   \n",
       "3       933-2021  99-EG-21-933-PR         Proposal   \n",
       "4              1  99-EG-22-001-PR         Proposal   \n",
       "\n",
       "                                    Opportunity Name           Business Line  \\\n",
       "0  DS.إعداد الدراسات التصميمية ومستندات الطرح لمش...    Water & Enviornment    \n",
       "1                          DS. كوبرى مزلقان بنى مزار  Building & facilities    \n",
       "2  DS. Detail Design of Infrastructure & Hardscap...  Building & facilities    \n",
       "3  DS. Structural assessment for the production h...  Building & facilities    \n",
       "4  DS. المناقصة المحدوده الخاصة بطلب خدمات استشار...  Building & facilities    \n",
       "\n",
       "                                 Client Name  \\\n",
       "0  الجهاز التنفيذى لمياه الشرب والصرف الصحى    \n",
       "1             شركة النيل العامة لإنشاء الطرق   \n",
       "2                                      Emaar   \n",
       "3                                   Unilever   \n",
       "4                                    VACSERA   \n",
       "\n",
       "                               Project Owner  Account Manager  Client Segment  \\\n",
       "0  الجهاز التنفيذى لمياه الشرب والصرف الصحى      Ehab Rashed      Government    \n",
       "1             شركة النيل العامة لإنشاء الطرق     Hisham hafez     Government    \n",
       "2                                      Emaar  Hesham Elshazly  Other Business   \n",
       "3                                   Unilever    Eslam Mostafa  Other Business   \n",
       "4                                    VACSERA    Islam shawky      Government    \n",
       "\n",
       "  EGEC Company  ... QAR EUR USD   Fees in USD Opportunity Manager  \\\n",
       "0       Egypt   ... NaN NaN NaN  19240.636224        Sally Latif    \n",
       "1       Egypt   ... NaN NaN NaN   5364.032837        Hisham hafez   \n",
       "2       Egypt   ... NaN NaN NaN   5130.836326       Mohamed Anwar   \n",
       "3        Egypt  ... NaN NaN NaN   7798.871216       Mohamed Reda    \n",
       "4       Egypt   ... NaN NaN NaN           NaN        Mariem Wagih   \n",
       "\n",
       "       Director  Opportunity Status  Submission Date  \\\n",
       "0  Ehab Rashed             Awarded        2021-10-11   \n",
       "1  Hisham hafez            Awarded        2022-01-02   \n",
       "2   Nasser Zaki            Awarded        2022-01-10   \n",
       "3   Nasser Zaki            Awarded        2021-12-01   \n",
       "4   Nasser Zaki            Awarded        2022-01-03   \n",
       "\n",
       "                 Project Type  Date Awarded/Lost  \n",
       "0         Water & wastewater          2022-01-01  \n",
       "1               Geotechnical          2022-01-02  \n",
       "2  Sustations & transmission          2022-01-10  \n",
       "3                         NaN         2022-01-12  \n",
       "4                         NaN         2022-01-26  \n",
       "\n",
       "[5 rows x 27 columns]"
      ]
     },
     "execution_count": 3,
     "metadata": {},
     "output_type": "execute_result"
    }
   ],
   "source": [
    "data.head()"
   ]
  },
  {
   "cell_type": "code",
   "execution_count": 4,
   "id": "3e27ebd0",
   "metadata": {},
   "outputs": [
    {
     "data": {
      "text/plain": [
       "Index(['Opportunity ID', 'EGEC Number', 'Opportunity type', 'Opportunity Name',\n",
       "       'Business Line', 'Client Name', 'Project Owner', 'Account Manager',\n",
       "       'Client Segment', 'EGEC Company', 'Service', 'Country',\n",
       "       'Project Location', 'Deadline', 'EGP', 'SAR', 'AED', 'QAR', 'EUR',\n",
       "       'USD', 'Fees in USD', 'Opportunity Manager', 'Director',\n",
       "       'Opportunity Status', 'Submission Date', 'Project Type',\n",
       "       'Date Awarded/Lost'],\n",
       "      dtype='object')"
      ]
     },
     "execution_count": 4,
     "metadata": {},
     "output_type": "execute_result"
    }
   ],
   "source": [
    "data.columns"
   ]
  },
  {
   "cell_type": "code",
   "execution_count": 5,
   "id": "efbf8595",
   "metadata": {},
   "outputs": [
    {
     "data": {
      "text/plain": [
       "(543, 27)"
      ]
     },
     "execution_count": 5,
     "metadata": {},
     "output_type": "execute_result"
    }
   ],
   "source": [
    "data.shape"
   ]
  },
  {
   "cell_type": "code",
   "execution_count": 6,
   "id": "f3746675",
   "metadata": {},
   "outputs": [
    {
     "name": "stdout",
     "output_type": "stream",
     "text": [
      "<class 'pandas.core.frame.DataFrame'>\n",
      "RangeIndex: 543 entries, 0 to 542\n",
      "Data columns (total 27 columns):\n",
      " #   Column               Non-Null Count  Dtype         \n",
      "---  ------               --------------  -----         \n",
      " 0   Opportunity ID       543 non-null    object        \n",
      " 1   EGEC Number          534 non-null    object        \n",
      " 2   Opportunity type     543 non-null    object        \n",
      " 3   Opportunity Name     543 non-null    object        \n",
      " 4   Business Line        543 non-null    object        \n",
      " 5   Client Name          539 non-null    object        \n",
      " 6   Project Owner        395 non-null    object        \n",
      " 7   Account Manager      533 non-null    object        \n",
      " 8   Client Segment       528 non-null    object        \n",
      " 9   EGEC Company         538 non-null    object        \n",
      " 10  Service              542 non-null    object        \n",
      " 11  Country              542 non-null    object        \n",
      " 12  Project Location     538 non-null    object        \n",
      " 13  Deadline             543 non-null    object        \n",
      " 14  EGP                  360 non-null    object        \n",
      " 15  SAR                  197 non-null    object        \n",
      " 16  AED                  95 non-null     float64       \n",
      " 17  QAR                  93 non-null     float64       \n",
      " 18  EUR                  101 non-null    float64       \n",
      " 19  USD                  100 non-null    float64       \n",
      " 20  Fees in USD          463 non-null    float64       \n",
      " 21  Opportunity Manager  543 non-null    object        \n",
      " 22  Director             543 non-null    object        \n",
      " 23  Opportunity Status   543 non-null    object        \n",
      " 24  Submission Date      543 non-null    datetime64[ns]\n",
      " 25  Project Type         247 non-null    object        \n",
      " 26  Date Awarded/Lost    383 non-null    datetime64[ns]\n",
      "dtypes: datetime64[ns](2), float64(5), object(20)\n",
      "memory usage: 114.7+ KB\n"
     ]
    }
   ],
   "source": [
    "data.info()"
   ]
  },
  {
   "cell_type": "code",
   "execution_count": 7,
   "id": "e95d81a5",
   "metadata": {},
   "outputs": [
    {
     "data": {
      "text/plain": [
       "EGEC Number            9\n",
       "Client Name            4\n",
       "Project Owner        148\n",
       "Account Manager       10\n",
       "Client Segment        15\n",
       "EGEC Company           5\n",
       "Service                1\n",
       "Country                1\n",
       "Project Location       5\n",
       "EGP                  183\n",
       "SAR                  346\n",
       "AED                  448\n",
       "QAR                  450\n",
       "EUR                  442\n",
       "USD                  443\n",
       "Fees in USD           80\n",
       "Project Type         296\n",
       "Date Awarded/Lost    160\n",
       "dtype: int64"
      ]
     },
     "execution_count": 7,
     "metadata": {},
     "output_type": "execute_result"
    }
   ],
   "source": [
    "null_data=data.isnull().sum()\n",
    "null_data[null_data>0]"
   ]
  },
  {
   "cell_type": "code",
   "execution_count": 8,
   "id": "522650c0",
   "metadata": {},
   "outputs": [
    {
     "data": {
      "text/plain": [
       "<AxesSubplot:>"
      ]
     },
     "execution_count": 8,
     "metadata": {},
     "output_type": "execute_result"
    },
    {
     "data": {
      "image/png": "[encoded data removed]",
      "text/plain": [
       "<Figure size 432x288 with 2 Axes>"
      ]
     },
     "metadata": {
      "needs_background": "light"
     },
     "output_type": "display_data"
    }
   ],
   "source": [
    "sns.heatmap(data.isnull())"
   ]
  },
  {
   "cell_type": "markdown",
   "id": "08f6c7ef",
   "metadata": {},
   "source": [
    "## Cleaning Data "
   ]
  },
  {
   "cell_type": "code",
   "execution_count": 9,
   "id": "50a8bb7c",
   "metadata": {},
   "outputs": [],
   "source": [
    "data=data.drop(['Client Name','SAR','EGP','QAR',\n",
    "                'EGEC Number','Opportunity Name','Opportunity ID','Project Owner',\n",
    "                'EUR','USD','AED','Project Type','Submission Date',\n",
    "                'Account Manager','Country','Opportunity Manager','Director',\n",
    "                'Country','EGEC Company'],axis=1)"
   ]
  },
  {
   "cell_type": "markdown",
   "id": "f9f8d1bf",
   "metadata": {},
   "source": [
    "### pending data deleted (33 record)"
   ]
  },
  {
   "cell_type": "code",
   "execution_count": 10,
   "id": "5ed028a6",
   "metadata": {},
   "outputs": [
    {
     "data": {
      "text/plain": [
       "Awarded                264\n",
       "Lost Financial         211\n",
       "Canceled by Client      40\n",
       "Canceled by EGEC        28\n",
       "Name: Opportunity Status, dtype: int64"
      ]
     },
     "execution_count": 10,
     "metadata": {},
     "output_type": "execute_result"
    }
   ],
   "source": [
    "dnull=data['Opportunity Status'].value_counts()\n",
    "dnull"
   ]
  },
  {
   "cell_type": "code",
   "execution_count": 11,
   "id": "278e28fe",
   "metadata": {},
   "outputs": [
    {
     "data": {
      "image/png": "[encoded data removed]",
      "text/plain": [
       "<Figure size 432x288 with 1 Axes>"
      ]
     },
     "metadata": {},
     "output_type": "display_data"
    }
   ],
   "source": [
    "labels=['Awarded','Lost Financial','Canceled by Client','Canceled by EGEC']\n",
    "plt.pie(dnull,labels=labels,autopct='%2f%%')\n",
    "plt.show()"
   ]
  },
  {
   "cell_type": "code",
   "execution_count": 33,
   "id": "d1bc76c7",
   "metadata": {},
   "outputs": [
    {
     "data": {
      "text/plain": [
       "Client Segment        15\n",
       "Service                1\n",
       "Project Location       5\n",
       "Fees in USD           80\n",
       "Date Awarded/Lost    160\n",
       "dtype: int64"
      ]
     },
     "execution_count": 33,
     "metadata": {},
     "output_type": "execute_result"
    }
   ],
   "source": [
    "dd=data.isnull().sum()\n",
    "dd[dd>0]"
   ]
  },
  {
   "cell_type": "code",
   "execution_count": 13,
   "id": "a71c7d72",
   "metadata": {},
   "outputs": [],
   "source": [
    "df=data.dropna()"
   ]
  },
  {
   "cell_type": "code",
   "execution_count": 14,
   "id": "5a1bc6c1",
   "metadata": {},
   "outputs": [],
   "source": [
    "df=df.drop(['Date Awarded/Lost','Deadline'],axis=1)"
   ]
  },
  {
   "cell_type": "markdown",
   "id": "3a1ac750",
   "metadata": {},
   "source": [
    "### Converting Data Type"
   ]
  },
  {
   "cell_type": "code",
   "execution_count": 15,
   "id": "a8e24334",
   "metadata": {},
   "outputs": [],
   "source": [
    "df_obj=df.select_dtypes(include='object')\n",
    "df_non_obj=df.select_dtypes(exclude='object')"
   ]
  },
  {
   "cell_type": "code",
   "execution_count": 16,
   "id": "5c635417",
   "metadata": {},
   "outputs": [],
   "source": [
    "la=LabelEncoder()"
   ]
  },
  {
   "cell_type": "code",
   "execution_count": 17,
   "id": "7a8b04ea",
   "metadata": {},
   "outputs": [
    {
     "name": "stderr",
     "output_type": "stream",
     "text": [
      "C:\\Users\\INFEG\\anaconda3\\lib\\site-packages\\pandas\\core\\indexing.py:1843: SettingWithCopyWarning: \n",
      "A value is trying to be set on a copy of a slice from a DataFrame.\n",
      "Try using .loc[row_indexer,col_indexer] = value instead\n",
      "\n",
      "See the caveats in the documentation: https://pandas.pydata.org/pandas-docs/stable/user_guide/indexing.html#returning-a-view-versus-a-copy\n",
      "  self.obj[item_labels[indexer[info_axis]]] = value\n",
      "C:\\Users\\INFEG\\anaconda3\\lib\\site-packages\\pandas\\core\\indexing.py:1676: SettingWithCopyWarning: \n",
      "A value is trying to be set on a copy of a slice from a DataFrame.\n",
      "Try using .loc[row_indexer,col_indexer] = value instead\n",
      "\n",
      "See the caveats in the documentation: https://pandas.pydata.org/pandas-docs/stable/user_guide/indexing.html#returning-a-view-versus-a-copy\n",
      "  self._setitem_single_column(ilocs[0], value, pi)\n"
     ]
    }
   ],
   "source": [
    "for i in range(0,df_obj.shape[1]):\n",
    "    df_obj.iloc[:,i]=la.fit_transform(df_obj.iloc[:,i])"
   ]
  },
  {
   "cell_type": "code",
   "execution_count": 18,
   "id": "ac806476",
   "metadata": {},
   "outputs": [],
   "source": [
    "ndf=pd.concat([df_obj,df_non_obj],axis=1)"
   ]
  },
  {
   "cell_type": "markdown",
   "id": "eddf00f9",
   "metadata": {},
   "source": [
    "## Data Analysis"
   ]
  },
  {
   "cell_type": "code",
   "execution_count": 19,
   "id": "9733b7ce",
   "metadata": {},
   "outputs": [
    {
     "data": {
      "image/png": "[encoded data removed]",
      "text/plain": [
       "<Figure size 1440x1080 with 9 Axes>"
      ]
     },
     "metadata": {
      "needs_background": "light"
     },
     "output_type": "display_data"
    }
   ],
   "source": [
    "ndf.hist(figsize=(20,15))\n",
    "plt.show()"
   ]
  },
  {
   "cell_type": "code",
   "execution_count": 20,
   "id": "d8f82de9",
   "metadata": {},
   "outputs": [
    {
     "data": {
      "text/plain": [
       "<AxesSubplot:>"
      ]
     },
     "execution_count": 20,
     "metadata": {},
     "output_type": "execute_result"
    },
    {
     "data": {
      "image/png": "[encoded data removed]",
      "text/plain": [
       "<Figure size 432x288 with 2 Axes>"
      ]
     },
     "metadata": {
      "needs_background": "light"
     },
     "output_type": "display_data"
    }
   ],
   "source": [
    "cor=ndf.corr()\n",
    "sns.heatmap(cor.rank(axis='columns'),annot=True,fmt=\".1f\",linewidth=.5)"
   ]
  },
  {
   "cell_type": "code",
   "execution_count": null,
   "id": "6ef82f3f",
   "metadata": {},
   "outputs": [],
   "source": []
  },
  {
   "cell_type": "markdown",
   "id": "5b896f0b",
   "metadata": {},
   "source": [
    "## Creating ML Model"
   ]
  },
  {
   "cell_type": "code",
   "execution_count": 21,
   "id": "650024f7",
   "metadata": {},
   "outputs": [],
   "source": [
    "x=ndf.drop(['Opportunity Status'],axis=1)\n",
    "y=ndf['Opportunity Status']"
   ]
  },
  {
   "cell_type": "code",
   "execution_count": 22,
   "id": "a988b39c",
   "metadata": {},
   "outputs": [],
   "source": [
    "x_train,x_test,y_train,y_test = train_test_split(x,y,test_size=0.30,random_state=21)"
   ]
  },
  {
   "cell_type": "code",
   "execution_count": 23,
   "id": "db71fb2a",
   "metadata": {},
   "outputs": [],
   "source": [
    "scalar=MinMaxScaler()\n",
    "x_tr_scal=scalar.fit_transform(x_train)\n",
    "x_ts_scal=scalar.fit_transform(x_test)"
   ]
  },
  {
   "cell_type": "code",
   "execution_count": 24,
   "id": "48d4f10f",
   "metadata": {},
   "outputs": [],
   "source": [
    "def ml_learn(model):\n",
    "    model.fit(x_tr_scal,y_train)\n",
    "    pre=model.predict(x_ts_scal)\n",
    "    print('model train score is :',model.score(x_tr_scal,y_train))\n",
    "    print('model test score is :',model.score(x_ts_scal,y_test))\n",
    "    print('Accuracy_Model : ',accuracy_score(pre,y_test))\n",
    "   "
   ]
  },
  {
   "cell_type": "code",
   "execution_count": 25,
   "id": "d5d015c0",
   "metadata": {},
   "outputs": [
    {
     "name": "stdout",
     "output_type": "stream",
     "text": [
      "model train score is : 0.6018957345971564\n",
      "model test score is : 0.6373626373626373\n",
      "Accuracy_Model :  0.6373626373626373\n"
     ]
    }
   ],
   "source": [
    "model1=LogisticRegression()\n",
    "ml_learn(model1)"
   ]
  },
  {
   "cell_type": "code",
   "execution_count": 26,
   "id": "ffa62403",
   "metadata": {},
   "outputs": [
    {
     "name": "stdout",
     "output_type": "stream",
     "text": [
      "model train score is : 0.966824644549763\n",
      "model test score is : 0.45054945054945056\n",
      "Accuracy_Model :  0.45054945054945056\n"
     ]
    }
   ],
   "source": [
    "model2=DecisionTreeClassifier()\n",
    "ml_learn(model2)"
   ]
  },
  {
   "cell_type": "code",
   "execution_count": 27,
   "id": "d866cfb0",
   "metadata": {},
   "outputs": [
    {
     "name": "stdout",
     "output_type": "stream",
     "text": [
      "model train score is : 0.966824644549763\n",
      "model test score is : 0.6813186813186813\n",
      "Accuracy_Model :  0.6813186813186813\n"
     ]
    }
   ],
   "source": [
    "model3=RandomForestClassifier() # ----> best Algorithm \n",
    "ml_learn(model3)"
   ]
  },
  {
   "cell_type": "code",
   "execution_count": 28,
   "id": "1a5beeff",
   "metadata": {},
   "outputs": [
    {
     "name": "stdout",
     "output_type": "stream",
     "text": [
      "model train score is : 0.6919431279620853\n",
      "model test score is : 0.6043956043956044\n",
      "Accuracy_Model :  0.6043956043956044\n"
     ]
    }
   ],
   "source": [
    "model4=KNeighborsClassifier()\n",
    "ml_learn(model4)"
   ]
  },
  {
   "cell_type": "code",
   "execution_count": 29,
   "id": "8b37937a",
   "metadata": {},
   "outputs": [
    {
     "name": "stdout",
     "output_type": "stream",
     "text": [
      "model train score is : 0.957345971563981\n",
      "model test score is : 0.6043956043956044\n",
      "Accuracy_Model :  0.6043956043956044\n"
     ]
    }
   ],
   "source": [
    "model5=GradientBoostingClassifier()\n",
    "ml_learn(model5)"
   ]
  },
  {
   "cell_type": "code",
   "execution_count": 30,
   "id": "7e4dee89",
   "metadata": {},
   "outputs": [
    {
     "name": "stdout",
     "output_type": "stream",
     "text": [
      "model train score is : 0.6018957345971564\n",
      "model test score is : 0.6373626373626373\n",
      "Accuracy_Model :  0.6373626373626373\n"
     ]
    }
   ],
   "source": [
    "model6=SVC()\n",
    "ml_learn(model6)"
   ]
  },
  {
   "cell_type": "code",
   "execution_count": 31,
   "id": "5d087555",
   "metadata": {},
   "outputs": [
    {
     "name": "stdout",
     "output_type": "stream",
     "text": [
      "model train score is : 0.11374407582938388\n",
      "model test score is : 0.0989010989010989\n",
      "Accuracy_Model :  0.0989010989010989\n"
     ]
    }
   ],
   "source": [
    "model7=GaussianNB()\n",
    "ml_learn(model7)"
   ]
  },
  {
   "cell_type": "code",
   "execution_count": null,
   "id": "b8b6f628",
   "metadata": {},
   "outputs": [],
   "source": []
  },
  {
   "cell_type": "code",
   "execution_count": null,
   "id": "49b68a2d",
   "metadata": {},
   "outputs": [],
   "source": []
  }
 ],
 "metadata": {
  "kernelspec": {
   "display_name": "Python 3",
   "language": "python",
   "name": "python3"
  },
  "language_info": {
   "codemirror_mode": {
    "name": "ipython",
    "version": 3
   },
   "file_extension": ".py",
   "mimetype": "text/x-python",
   "name": "python",
   "nbconvert_exporter": "python",
   "pygments_lexer": "ipython3",
   "version": "3.8.8"
  }
 },
 "nbformat": 4,
 "nbformat_minor": 5
}
